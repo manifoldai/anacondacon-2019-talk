{
 "cells": [
  {
   "cell_type": "markdown",
   "metadata": {
    "heading_collapsed": true
   },
   "source": [
    "# Data Download"
   ]
  },
  {
   "cell_type": "code",
   "execution_count": 3,
   "metadata": {
    "hidden": true
   },
   "outputs": [],
   "source": [
    "import os\n",
    "import pathlib\n",
    "import requests\n",
    "import xmltodict\n",
    "\n",
    "def download_data(S3_BUCKET_URL=\"http://arxiv-nlp-5years.s3-us-west-1.amazonaws.com\", DATA_DIR=\"./data\"):\n",
    "    r = requests.get(S3_BUCKET_URL)  # Get bucket contents\n",
    "    xml_data = xmltodict.parse(r.text)  # XML listing of bucket contents\n",
    "    num_files = len(xml_data[\"ListBucketResult\"][\"Contents\"])\n",
    "\n",
    "    DATA_DIR_PATH = pathlib.Path(DATA_DIR)\n",
    "    DATA_DIR_PATH.mkdir(exist_ok=True, parents=True)\n",
    "    (DATA_DIR_PATH/\"raw\").mkdir(exist_ok=True, parents=True)\n",
    "    (DATA_DIR_PATH/\"preprocessed\").mkdir(exist_ok=True, parents=True)\n",
    "    (DATA_DIR_PATH/\"features\").mkdir(exist_ok=True, parents=True)\n",
    "\n",
    "    # Iterate over files and download each one to raw\n",
    "    for i, file in enumerate(xml_data[\"ListBucketResult\"][\"Contents\"]):\n",
    "        fp = file[\"Key\"]\n",
    "        print(f\"{i+1}/{num_files} - Downloading {fp}\")\n",
    "        with open(DATA_DIR_PATH/\"raw\"/fp, \"wb\") as write_fp:\n",
    "            write_fp.write(requests.get(os.path.join(S3_BUCKET_URL, fp)).content)"
   ]
  },
  {
   "cell_type": "code",
   "execution_count": 4,
   "metadata": {
    "hidden": true,
    "scrolled": true
   },
   "outputs": [
    {
     "name": "stdout",
     "output_type": "stream",
     "text": [
      "1/9 - Downloading arXiv_metadata_000000000000.json\n",
      "2/9 - Downloading arXiv_metadata_000000000001.json\n",
      "3/9 - Downloading arXiv_metadata_000000000002.json\n",
      "4/9 - Downloading arXiv_metadata_000000000003.json\n",
      "5/9 - Downloading arXiv_metadata_000000000004.json\n",
      "6/9 - Downloading arXiv_metadata_000000000005.json\n",
      "7/9 - Downloading arXiv_metadata_000000000006.json\n",
      "8/9 - Downloading arXiv_metadata_000000000007.json\n",
      "9/9 - Downloading arXiv_metadata_000000000008.json\n"
     ]
    }
   ],
   "source": [
    "DATA_DIR = \"./data\"\n",
    "download_data(DATA_DIR=DATA_DIR)"
   ]
  },
  {
   "cell_type": "markdown",
   "metadata": {},
   "source": [
    "# Imports and setup"
   ]
  },
  {
   "cell_type": "code",
   "execution_count": 5,
   "metadata": {},
   "outputs": [],
   "source": [
    "# Dask import\n",
    "import dask.delayed\n",
    "import dask.bag as db\n",
    "import dask.dataframe as dd\n",
    "from dask.distributed import LocalCluster, Client\n",
    "from dask_ml.model_selection import GridSearchCV\n",
    "\n",
    "# Other utility imports\n",
    "import os\n",
    "import sys\n",
    "import re\n",
    "import glob\n",
    "import json\n",
    "import string\n",
    "import pathlib\n",
    "import pandas as pd\n",
    "import numpy as np\n",
    "import matplotlib.pyplot as plt\n",
    "from scipy import sparse\n",
    "from itertools import cycle\n",
    "from gensim.corpora import Dictionary\n",
    "from gensim.models import TfidfModel\n",
    "from gensim.matutils import corpus2dense, corpus2csc\n",
    "from sklearn.base import BaseEstimator, ClassifierMixin\n",
    "from sklearn.model_selection import train_test_split\n",
    "from sklearn.utils.validation import check_X_y, check_is_fitted\n",
    "from sklearn.linear_model import LogisticRegression\n",
    "from sklearn.metrics import precision_recall_curve, average_precision_score"
   ]
  },
  {
   "cell_type": "code",
   "execution_count": 6,
   "metadata": {},
   "outputs": [
    {
     "data": {
      "text/html": [
       "<table style=\"border: 2px solid white;\">\n",
       "<tr>\n",
       "<td style=\"vertical-align: top; border: 0px solid white\">\n",
       "<h3>Client</h3>\n",
       "<ul>\n",
       "  <li><b>Scheduler: </b>tcp://127.0.0.1:44491\n",
       "  <li><b>Dashboard: </b><a href='http://127.0.0.1:8787/status' target='_blank'>http://127.0.0.1:8787/status</a>\n",
       "</ul>\n",
       "</td>\n",
       "<td style=\"vertical-align: top; border: 0px solid white\">\n",
       "<h3>Cluster</h3>\n",
       "<ul>\n",
       "  <li><b>Workers: </b>5</li>\n",
       "  <li><b>Cores: </b>10</li>\n",
       "  <li><b>Memory: </b>13.63 GB</li>\n",
       "</ul>\n",
       "</td>\n",
       "</tr>\n",
       "</table>"
      ],
      "text/plain": [
       "<Client: scheduler='tcp://127.0.0.1:44491' processes=5 cores=10>"
      ]
     },
     "execution_count": 6,
     "metadata": {},
     "output_type": "execute_result"
    }
   ],
   "source": [
    "cluster = LocalCluster()\n",
    "client = Client(cluster)\n",
    "client"
   ]
  },
  {
   "cell_type": "code",
   "execution_count": 7,
   "metadata": {},
   "outputs": [],
   "source": [
    "DATA_DIR_PATH = pathlib.Path(\"./data\")\n",
    "raw_data_dir = DATA_DIR_PATH/\"raw\"\n",
    "preproc_data_dir = DATA_DIR_PATH/\"preprocessed\"\n",
    "feature_data_dir = DATA_DIR_PATH/\"features\"\n",
    "\n",
    "json_glob_pattern = \"arXiv_metadata_*.json\"\n",
    "\n",
    "# Complete category list\n",
    "category_list = [\"Computer Science\", \"Mathematics\", \"Physics\", \"Quantitative Biology\",\n",
    "                                  \"Quantitative Finance\", \"Statistics\", \"Economics\",\n",
    "                                  \"Electrical Engineering and Systems Science\"]"
   ]
  },
  {
   "cell_type": "markdown",
   "metadata": {
    "heading_collapsed": true
   },
   "source": [
    "# Preprocessing"
   ]
  },
  {
   "cell_type": "markdown",
   "metadata": {
    "heading_collapsed": true,
    "hidden": true
   },
   "source": [
    "## Exploring the data"
   ]
  },
  {
   "cell_type": "code",
   "execution_count": 8,
   "metadata": {
    "hidden": true
   },
   "outputs": [
    {
     "data": {
      "text/html": [
       "<div>\n",
       "<style scoped>\n",
       "    .dataframe tbody tr th:only-of-type {\n",
       "        vertical-align: middle;\n",
       "    }\n",
       "\n",
       "    .dataframe tbody tr th {\n",
       "        vertical-align: top;\n",
       "    }\n",
       "\n",
       "    .dataframe thead th {\n",
       "        text-align: right;\n",
       "    }\n",
       "</style>\n",
       "<table border=\"1\" class=\"dataframe\">\n",
       "  <thead>\n",
       "    <tr style=\"text-align: right;\">\n",
       "      <th></th>\n",
       "      <th>abstract</th>\n",
       "      <th>authors</th>\n",
       "      <th>categories</th>\n",
       "      <th>journal-ref</th>\n",
       "      <th>title</th>\n",
       "    </tr>\n",
       "  </thead>\n",
       "  <tbody>\n",
       "    <tr>\n",
       "      <th>0704.0005</th>\n",
       "      <td>In this paper we show how to compute the $\\Lam...</td>\n",
       "      <td>{'author': [{'keyname': 'Abu-Shammala', 'foren...</td>\n",
       "      <td>{'category-0': {'main_category': 'Mathematics'...</td>\n",
       "      <td>Illinois J. Math. 52 (2008) no.2, 681-689</td>\n",
       "      <td>From dyadic $\\Lambda_{\\alpha}$ to $\\Lambda_{\\a...</td>\n",
       "    </tr>\n",
       "    <tr>\n",
       "      <th>0704.0054</th>\n",
       "      <td>In this paper we consider the Hardy-Lorentz sp...</td>\n",
       "      <td>{'author': [{'keyname': 'Abu-Shammala', 'foren...</td>\n",
       "      <td>{'category-0': {'main_category': 'Mathematics'...</td>\n",
       "      <td>Studia Math. 182 (2007) no. 3, 283-294</td>\n",
       "      <td>The Hardy-Lorentz Spaces $H^{p,q}(R^n)$</td>\n",
       "    </tr>\n",
       "    <tr>\n",
       "      <th>0704.0200</th>\n",
       "      <td>The electromagnetic polarizabilities of the nu...</td>\n",
       "      <td>{'author': {'keyname': 'Schumacher', 'forename...</td>\n",
       "      <td>{'category-0': {'main_category': 'Physics', 's...</td>\n",
       "      <td>Eur.Phys.J.A31:327-333,2007</td>\n",
       "      <td>Electromagnetic polarizabilities and the excit...</td>\n",
       "    </tr>\n",
       "    <tr>\n",
       "      <th>0704.0275</th>\n",
       "      <td>It is known that every closed curve of length ...</td>\n",
       "      <td>{'author': {'keyname': 'Bergman', 'forenames':...</td>\n",
       "      <td>{'category-0': {'main_category': 'Mathematics'...</td>\n",
       "      <td>Pacific J. Math., 236 (2008) 223-261</td>\n",
       "      <td>Mapping radii of metric spaces</td>\n",
       "    </tr>\n",
       "    <tr>\n",
       "      <th>0704.0304</th>\n",
       "      <td>This paper discusses the benefits of describin...</td>\n",
       "      <td>{'author': {'keyname': 'Gershenson', 'forename...</td>\n",
       "      <td>{'category-0': {'main_category': 'Computer Sci...</td>\n",
       "      <td>Minai, A., Braha, D., and Bar-Yam, Y., eds. Un...</td>\n",
       "      <td>The World as Evolving Information</td>\n",
       "    </tr>\n",
       "  </tbody>\n",
       "</table>\n",
       "</div>"
      ],
      "text/plain": [
       "                                                    abstract  \\\n",
       "0704.0005  In this paper we show how to compute the $\\Lam...   \n",
       "0704.0054  In this paper we consider the Hardy-Lorentz sp...   \n",
       "0704.0200  The electromagnetic polarizabilities of the nu...   \n",
       "0704.0275  It is known that every closed curve of length ...   \n",
       "0704.0304  This paper discusses the benefits of describin...   \n",
       "\n",
       "                                                     authors  \\\n",
       "0704.0005  {'author': [{'keyname': 'Abu-Shammala', 'foren...   \n",
       "0704.0054  {'author': [{'keyname': 'Abu-Shammala', 'foren...   \n",
       "0704.0200  {'author': {'keyname': 'Schumacher', 'forename...   \n",
       "0704.0275  {'author': {'keyname': 'Bergman', 'forenames':...   \n",
       "0704.0304  {'author': {'keyname': 'Gershenson', 'forename...   \n",
       "\n",
       "                                                  categories  \\\n",
       "0704.0005  {'category-0': {'main_category': 'Mathematics'...   \n",
       "0704.0054  {'category-0': {'main_category': 'Mathematics'...   \n",
       "0704.0200  {'category-0': {'main_category': 'Physics', 's...   \n",
       "0704.0275  {'category-0': {'main_category': 'Mathematics'...   \n",
       "0704.0304  {'category-0': {'main_category': 'Computer Sci...   \n",
       "\n",
       "                                                 journal-ref  \\\n",
       "0704.0005          Illinois J. Math. 52 (2008) no.2, 681-689   \n",
       "0704.0054             Studia Math. 182 (2007) no. 3, 283-294   \n",
       "0704.0200                        Eur.Phys.J.A31:327-333,2007   \n",
       "0704.0275               Pacific J. Math., 236 (2008) 223-261   \n",
       "0704.0304  Minai, A., Braha, D., and Bar-Yam, Y., eds. Un...   \n",
       "\n",
       "                                                       title  \n",
       "0704.0005  From dyadic $\\Lambda_{\\alpha}$ to $\\Lambda_{\\a...  \n",
       "0704.0054            The Hardy-Lorentz Spaces $H^{p,q}(R^n)$  \n",
       "0704.0200  Electromagnetic polarizabilities and the excit...  \n",
       "0704.0275                     Mapping radii of metric spaces  \n",
       "0704.0304                  The World as Evolving Information  "
      ]
     },
     "execution_count": 8,
     "metadata": {},
     "output_type": "execute_result"
    }
   ],
   "source": [
    "raw_df = pd.read_json(raw_data_dir/\"arXiv_metadata_000000000000.json\", orient='index')\n",
    "raw_df.head()"
   ]
  },
  {
   "cell_type": "code",
   "execution_count": 9,
   "metadata": {
    "hidden": true
   },
   "outputs": [
    {
     "data": {
      "text/plain": [
       "'This paper discusses the benefits of describing the world as information, especially in the study of the evolution of life and cognition. Traditional studies encounter problems because it is difficult to describe life and cognition in terms of matter and energy, since their laws are valid only at the physical scale. However, if matter and energy, as well as life and cognition, are described in terms of information, evolution can be described consistently as information becoming more complex.   The paper presents eight tentative laws of information, valid at multiple scales, which are generalizations of Darwinian, cybernetic, thermodynamic, psychological, philosophical, and complexity principles. These are further used to discuss the notions of life, cognition and their evolution.'"
      ]
     },
     "execution_count": 9,
     "metadata": {},
     "output_type": "execute_result"
    }
   ],
   "source": [
    "\" \".join(raw_df.loc[\"0704.0304\", \"abstract\"].split(\"\\n\"))"
   ]
  },
  {
   "cell_type": "code",
   "execution_count": 10,
   "metadata": {
    "hidden": true
   },
   "outputs": [
    {
     "data": {
      "text/plain": [
       "{'category-0': {'main_category': 'Computer Science',\n",
       "  'sub_category': 'Information Theory'},\n",
       " 'category-1': {'main_category': 'Computer Science',\n",
       "  'sub_category': 'Artificial Intelligence'},\n",
       " 'category-2': {'main_category': 'Mathematics',\n",
       "  'sub_category': 'Information Theory'},\n",
       " 'category-3': {'main_category': 'Quantitative Biology',\n",
       "  'sub_category': 'Populations and Evolution'}}"
      ]
     },
     "execution_count": 10,
     "metadata": {},
     "output_type": "execute_result"
    }
   ],
   "source": [
    "raw_df.loc[\"0704.0304\", \"categories\"]"
   ]
  },
  {
   "cell_type": "markdown",
   "metadata": {
    "heading_collapsed": true,
    "hidden": true
   },
   "source": [
    "## Incremental Building with pandas"
   ]
  },
  {
   "cell_type": "code",
   "execution_count": 11,
   "metadata": {
    "hidden": true
   },
   "outputs": [],
   "source": [
    "def tokenize(s):\n",
    "    # Splits on punctuation\n",
    "    return re.compile(f\"([{string.punctuation}“”¨«»®´·º½¾¿¡§£₤‘’])\").sub(r\" \\1 \", s).split()"
   ]
  },
  {
   "cell_type": "code",
   "execution_count": 12,
   "metadata": {
    "hidden": true
   },
   "outputs": [],
   "source": [
    "def _get_main_cats_each_row(row, target=\"main_category\"):\n",
    "    # The set of main categories in each arXiv entry\n",
    "    main_cats = set([k[target] for k in list(row[\"categories\"].values())])\n",
    "    return main_cats\n",
    "\n",
    "def get_ohced_main_category(df, all_categories):\n",
    "    main_cat_df = pd.DataFrame()\n",
    "    \n",
    "    # Get a list of main categories for each row\n",
    "    main_cat_df[\"main_cat_list\"] = df.apply(lambda row: _get_main_cats_each_row(row), axis=1)\n",
    "    \n",
    "    # Convert the list into one-hot-encoded response variables\n",
    "    data_ohcs = main_cat_df[\"main_cat_list\"].str.join(sep=\"*\").str.get_dummies(sep=\"*\")\n",
    "    \n",
    "    # Add a column in case we don't have any categories present in the data\n",
    "    for cat in all_categories:\n",
    "        if cat not in data_ohcs.columns:\n",
    "            data_ohcs[cat] = 0\n",
    "\n",
    "    combined_df = pd.concat([main_cat_df, data_ohcs], axis=1)\n",
    "    return combined_df"
   ]
  },
  {
   "cell_type": "code",
   "execution_count": 13,
   "metadata": {
    "hidden": true
   },
   "outputs": [],
   "source": [
    "def preprocess_input_json(jfile, preprocessed_dir, category_list, return_df=False):\n",
    "    processed_df = pd.DataFrame()\n",
    "    \n",
    "    with open(jfile, \"r\") as f:\n",
    "        raw_df = pd.read_json(f, orient='index')\n",
    "    \n",
    "    processed_df['token_abs'] = raw_df['abstract'].map(tokenize)\n",
    "    ohced_main_cat = get_ohced_main_category(raw_df, category_list)\n",
    "    processed_df = pd.concat([processed_df, ohced_main_cat], axis=1)\n",
    "    \n",
    "    out_file = os.path.join(preprocessed_dir, os.path.basename(jfile))\n",
    "    with open(out_file, 'w'):\n",
    "        processed_df.to_json(out_file, orient='records', lines=True)\n",
    "        \n",
    "    if return_df:\n",
    "        return processed_df"
   ]
  },
  {
   "cell_type": "code",
   "execution_count": 14,
   "metadata": {
    "hidden": true
   },
   "outputs": [
    {
     "name": "stdout",
     "output_type": "stream",
     "text": [
      "CPU times: user 8.91 s, sys: 1.04 s, total: 9.95 s\n",
      "Wall time: 10.4 s\n"
     ]
    },
    {
     "data": {
      "text/html": [
       "<div>\n",
       "<style scoped>\n",
       "    .dataframe tbody tr th:only-of-type {\n",
       "        vertical-align: middle;\n",
       "    }\n",
       "\n",
       "    .dataframe tbody tr th {\n",
       "        vertical-align: top;\n",
       "    }\n",
       "\n",
       "    .dataframe thead th {\n",
       "        text-align: right;\n",
       "    }\n",
       "</style>\n",
       "<table border=\"1\" class=\"dataframe\">\n",
       "  <thead>\n",
       "    <tr style=\"text-align: right;\">\n",
       "      <th></th>\n",
       "      <th>token_abs</th>\n",
       "      <th>main_cat_list</th>\n",
       "      <th>Computer Science</th>\n",
       "      <th>Mathematics</th>\n",
       "      <th>Physics</th>\n",
       "      <th>Quantitative Biology</th>\n",
       "      <th>Quantitative Finance</th>\n",
       "      <th>Statistics</th>\n",
       "      <th>Economics</th>\n",
       "      <th>Electrical Engineering and Systems Science</th>\n",
       "    </tr>\n",
       "  </thead>\n",
       "  <tbody>\n",
       "    <tr>\n",
       "      <th>0704.0005</th>\n",
       "      <td>[In, this, paper, we, show, how, to, compute, ...</td>\n",
       "      <td>{Mathematics}</td>\n",
       "      <td>0</td>\n",
       "      <td>1</td>\n",
       "      <td>0</td>\n",
       "      <td>0</td>\n",
       "      <td>0</td>\n",
       "      <td>0</td>\n",
       "      <td>0</td>\n",
       "      <td>0</td>\n",
       "    </tr>\n",
       "    <tr>\n",
       "      <th>0704.0054</th>\n",
       "      <td>[In, this, paper, we, consider, the, Hardy, -,...</td>\n",
       "      <td>{Mathematics}</td>\n",
       "      <td>0</td>\n",
       "      <td>1</td>\n",
       "      <td>0</td>\n",
       "      <td>0</td>\n",
       "      <td>0</td>\n",
       "      <td>0</td>\n",
       "      <td>0</td>\n",
       "      <td>0</td>\n",
       "    </tr>\n",
       "    <tr>\n",
       "      <th>0704.0200</th>\n",
       "      <td>[The, electromagnetic, polarizabilities, of, t...</td>\n",
       "      <td>{Physics}</td>\n",
       "      <td>0</td>\n",
       "      <td>0</td>\n",
       "      <td>1</td>\n",
       "      <td>0</td>\n",
       "      <td>0</td>\n",
       "      <td>0</td>\n",
       "      <td>0</td>\n",
       "      <td>0</td>\n",
       "    </tr>\n",
       "    <tr>\n",
       "      <th>0704.0275</th>\n",
       "      <td>[It, is, known, that, every, closed, curve, of...</td>\n",
       "      <td>{Mathematics}</td>\n",
       "      <td>0</td>\n",
       "      <td>1</td>\n",
       "      <td>0</td>\n",
       "      <td>0</td>\n",
       "      <td>0</td>\n",
       "      <td>0</td>\n",
       "      <td>0</td>\n",
       "      <td>0</td>\n",
       "    </tr>\n",
       "    <tr>\n",
       "      <th>0704.0304</th>\n",
       "      <td>[This, paper, discusses, the, benefits, of, de...</td>\n",
       "      <td>{Mathematics, Quantitative Biology, Computer S...</td>\n",
       "      <td>1</td>\n",
       "      <td>1</td>\n",
       "      <td>0</td>\n",
       "      <td>1</td>\n",
       "      <td>0</td>\n",
       "      <td>0</td>\n",
       "      <td>0</td>\n",
       "      <td>0</td>\n",
       "    </tr>\n",
       "  </tbody>\n",
       "</table>\n",
       "</div>"
      ],
      "text/plain": [
       "                                                   token_abs  \\\n",
       "0704.0005  [In, this, paper, we, show, how, to, compute, ...   \n",
       "0704.0054  [In, this, paper, we, consider, the, Hardy, -,...   \n",
       "0704.0200  [The, electromagnetic, polarizabilities, of, t...   \n",
       "0704.0275  [It, is, known, that, every, closed, curve, of...   \n",
       "0704.0304  [This, paper, discusses, the, benefits, of, de...   \n",
       "\n",
       "                                               main_cat_list  \\\n",
       "0704.0005                                      {Mathematics}   \n",
       "0704.0054                                      {Mathematics}   \n",
       "0704.0200                                          {Physics}   \n",
       "0704.0275                                      {Mathematics}   \n",
       "0704.0304  {Mathematics, Quantitative Biology, Computer S...   \n",
       "\n",
       "           Computer Science  Mathematics  Physics  Quantitative Biology  \\\n",
       "0704.0005                 0            1        0                     0   \n",
       "0704.0054                 0            1        0                     0   \n",
       "0704.0200                 0            0        1                     0   \n",
       "0704.0275                 0            1        0                     0   \n",
       "0704.0304                 1            1        0                     1   \n",
       "\n",
       "           Quantitative Finance  Statistics  Economics  \\\n",
       "0704.0005                     0           0          0   \n",
       "0704.0054                     0           0          0   \n",
       "0704.0200                     0           0          0   \n",
       "0704.0275                     0           0          0   \n",
       "0704.0304                     0           0          0   \n",
       "\n",
       "           Electrical Engineering and Systems Science  \n",
       "0704.0005                                           0  \n",
       "0704.0054                                           0  \n",
       "0704.0200                                           0  \n",
       "0704.0275                                           0  \n",
       "0704.0304                                           0  "
      ]
     },
     "execution_count": 14,
     "metadata": {},
     "output_type": "execute_result"
    }
   ],
   "source": [
    "%time tokenized_df = preprocess_input_json(raw_data_dir/\"arXiv_metadata_000000000000.json\", preproc_data_dir, category_list, return_df=True)\n",
    "tokenized_df.head()"
   ]
  },
  {
   "cell_type": "code",
   "execution_count": 15,
   "metadata": {
    "hidden": true
   },
   "outputs": [
    {
     "data": {
      "text/plain": [
       "token_abs                                     [This, paper, discusses, the, benefits, of, de...\n",
       "main_cat_list                                 {Mathematics, Quantitative Biology, Computer S...\n",
       "Computer Science                                                                              1\n",
       "Mathematics                                                                                   1\n",
       "Physics                                                                                       0\n",
       "Quantitative Biology                                                                          1\n",
       "Quantitative Finance                                                                          0\n",
       "Statistics                                                                                    0\n",
       "Economics                                                                                     0\n",
       "Electrical Engineering and Systems Science                                                    0\n",
       "Name: 0704.0304, dtype: object"
      ]
     },
     "execution_count": 15,
     "metadata": {},
     "output_type": "execute_result"
    }
   ],
   "source": [
    "tokenized_df.loc[\"0704.0304\", :]"
   ]
  },
  {
   "cell_type": "markdown",
   "metadata": {
    "heading_collapsed": true,
    "hidden": true
   },
   "source": [
    "## Parallelizing with dask.bag"
   ]
  },
  {
   "cell_type": "code",
   "execution_count": 16,
   "metadata": {
    "hidden": true
   },
   "outputs": [],
   "source": [
    "def dask_preprocess(input_dir, preprocessed_dir, glob_pattern, category_list):\n",
    "    input_files = pathlib.Path(input_dir).glob(glob_pattern)\n",
    "\n",
    "    json_db = db.from_sequence(input_files) \\\n",
    "        .map(preprocess_input_json, preprocessed_dir, category_list)\n",
    "    \n",
    "    json_db.compute()"
   ]
  },
  {
   "cell_type": "code",
   "execution_count": 17,
   "metadata": {
    "hidden": true
   },
   "outputs": [
    {
     "name": "stdout",
     "output_type": "stream",
     "text": [
      "CPU times: user 5.48 s, sys: 900 ms, total: 6.38 s\n",
      "Wall time: 44.5 s\n"
     ]
    }
   ],
   "source": [
    "%time dask_preprocess(raw_data_dir, preproc_data_dir, json_glob_pattern, category_list)"
   ]
  },
  {
   "cell_type": "markdown",
   "metadata": {
    "heading_collapsed": true
   },
   "source": [
    "# Feature Engineering"
   ]
  },
  {
   "cell_type": "markdown",
   "metadata": {
    "heading_collapsed": true,
    "hidden": true
   },
   "source": [
    "## Looking at our preprocessed data"
   ]
  },
  {
   "cell_type": "code",
   "execution_count": 18,
   "metadata": {
    "hidden": true
   },
   "outputs": [
    {
     "data": {
      "text/html": [
       "<div>\n",
       "<style scoped>\n",
       "    .dataframe tbody tr th:only-of-type {\n",
       "        vertical-align: middle;\n",
       "    }\n",
       "\n",
       "    .dataframe tbody tr th {\n",
       "        vertical-align: top;\n",
       "    }\n",
       "\n",
       "    .dataframe thead th {\n",
       "        text-align: right;\n",
       "    }\n",
       "</style>\n",
       "<table border=\"1\" class=\"dataframe\">\n",
       "  <thead>\n",
       "    <tr style=\"text-align: right;\">\n",
       "      <th></th>\n",
       "      <th>Computer Science</th>\n",
       "      <th>Economics</th>\n",
       "      <th>Electrical Engineering and Systems Science</th>\n",
       "      <th>Mathematics</th>\n",
       "      <th>Physics</th>\n",
       "      <th>Quantitative Biology</th>\n",
       "      <th>Quantitative Finance</th>\n",
       "      <th>Statistics</th>\n",
       "      <th>main_cat_list</th>\n",
       "      <th>token_abs</th>\n",
       "    </tr>\n",
       "  </thead>\n",
       "  <tbody>\n",
       "    <tr>\n",
       "      <th>0</th>\n",
       "      <td>0</td>\n",
       "      <td>0</td>\n",
       "      <td>0</td>\n",
       "      <td>1</td>\n",
       "      <td>0</td>\n",
       "      <td>0</td>\n",
       "      <td>0</td>\n",
       "      <td>0</td>\n",
       "      <td>[Mathematics]</td>\n",
       "      <td>[In, this, paper, we, show, how, to, compute, ...</td>\n",
       "    </tr>\n",
       "    <tr>\n",
       "      <th>1</th>\n",
       "      <td>0</td>\n",
       "      <td>0</td>\n",
       "      <td>0</td>\n",
       "      <td>1</td>\n",
       "      <td>0</td>\n",
       "      <td>0</td>\n",
       "      <td>0</td>\n",
       "      <td>0</td>\n",
       "      <td>[Mathematics]</td>\n",
       "      <td>[In, this, paper, we, consider, the, Hardy, -,...</td>\n",
       "    </tr>\n",
       "    <tr>\n",
       "      <th>2</th>\n",
       "      <td>0</td>\n",
       "      <td>0</td>\n",
       "      <td>0</td>\n",
       "      <td>0</td>\n",
       "      <td>1</td>\n",
       "      <td>0</td>\n",
       "      <td>0</td>\n",
       "      <td>0</td>\n",
       "      <td>[Physics]</td>\n",
       "      <td>[The, electromagnetic, polarizabilities, of, t...</td>\n",
       "    </tr>\n",
       "    <tr>\n",
       "      <th>3</th>\n",
       "      <td>0</td>\n",
       "      <td>0</td>\n",
       "      <td>0</td>\n",
       "      <td>1</td>\n",
       "      <td>0</td>\n",
       "      <td>0</td>\n",
       "      <td>0</td>\n",
       "      <td>0</td>\n",
       "      <td>[Mathematics]</td>\n",
       "      <td>[It, is, known, that, every, closed, curve, of...</td>\n",
       "    </tr>\n",
       "    <tr>\n",
       "      <th>4</th>\n",
       "      <td>1</td>\n",
       "      <td>0</td>\n",
       "      <td>0</td>\n",
       "      <td>1</td>\n",
       "      <td>0</td>\n",
       "      <td>1</td>\n",
       "      <td>0</td>\n",
       "      <td>0</td>\n",
       "      <td>[Quantitative Biology, Computer Science, Mathe...</td>\n",
       "      <td>[This, paper, discusses, the, benefits, of, de...</td>\n",
       "    </tr>\n",
       "  </tbody>\n",
       "</table>\n",
       "</div>"
      ],
      "text/plain": [
       "   Computer Science  Economics  Electrical Engineering and Systems Science  \\\n",
       "0                 0          0                                           0   \n",
       "1                 0          0                                           0   \n",
       "2                 0          0                                           0   \n",
       "3                 0          0                                           0   \n",
       "4                 1          0                                           0   \n",
       "\n",
       "   Mathematics  Physics  Quantitative Biology  Quantitative Finance  \\\n",
       "0            1        0                     0                     0   \n",
       "1            1        0                     0                     0   \n",
       "2            0        1                     0                     0   \n",
       "3            1        0                     0                     0   \n",
       "4            1        0                     1                     0   \n",
       "\n",
       "   Statistics                                      main_cat_list  \\\n",
       "0           0                                      [Mathematics]   \n",
       "1           0                                      [Mathematics]   \n",
       "2           0                                          [Physics]   \n",
       "3           0                                      [Mathematics]   \n",
       "4           0  [Quantitative Biology, Computer Science, Mathe...   \n",
       "\n",
       "                                           token_abs  \n",
       "0  [In, this, paper, we, show, how, to, compute, ...  \n",
       "1  [In, this, paper, we, consider, the, Hardy, -,...  \n",
       "2  [The, electromagnetic, polarizabilities, of, t...  \n",
       "3  [It, is, known, that, every, closed, curve, of...  \n",
       "4  [This, paper, discusses, the, benefits, of, de...  "
      ]
     },
     "execution_count": 18,
     "metadata": {},
     "output_type": "execute_result"
    }
   ],
   "source": [
    "preproc_df = pd.read_json(preproc_data_dir/\"arXiv_metadata_000000000000.json\", orient=\"records\", lines=True)\n",
    "preproc_df.head()"
   ]
  },
  {
   "cell_type": "code",
   "execution_count": 19,
   "metadata": {
    "hidden": true
   },
   "outputs": [
    {
     "data": {
      "text/plain": [
       "['This',\n",
       " 'paper',\n",
       " 'discusses',\n",
       " 'the',\n",
       " 'benefits',\n",
       " 'of',\n",
       " 'describing',\n",
       " 'the',\n",
       " 'world',\n",
       " 'as',\n",
       " 'information',\n",
       " ',',\n",
       " 'especially',\n",
       " 'in',\n",
       " 'the',\n",
       " 'study',\n",
       " 'of',\n",
       " 'the',\n",
       " 'evolution',\n",
       " 'of',\n",
       " 'life',\n",
       " 'and',\n",
       " 'cognition',\n",
       " '.',\n",
       " 'Traditional',\n",
       " 'studies',\n",
       " 'encounter',\n",
       " 'problems',\n",
       " 'because',\n",
       " 'it',\n",
       " 'is',\n",
       " 'difficult',\n",
       " 'to',\n",
       " 'describe',\n",
       " 'life',\n",
       " 'and',\n",
       " 'cognition',\n",
       " 'in',\n",
       " 'terms',\n",
       " 'of',\n",
       " 'matter',\n",
       " 'and',\n",
       " 'energy',\n",
       " ',',\n",
       " 'since',\n",
       " 'their',\n",
       " 'laws',\n",
       " 'are',\n",
       " 'valid',\n",
       " 'only',\n",
       " 'at',\n",
       " 'the',\n",
       " 'physical',\n",
       " 'scale',\n",
       " '.',\n",
       " 'However',\n",
       " ',',\n",
       " 'if',\n",
       " 'matter',\n",
       " 'and',\n",
       " 'energy',\n",
       " ',',\n",
       " 'as',\n",
       " 'well',\n",
       " 'as',\n",
       " 'life',\n",
       " 'and',\n",
       " 'cognition',\n",
       " ',',\n",
       " 'are',\n",
       " 'described',\n",
       " 'in',\n",
       " 'terms',\n",
       " 'of',\n",
       " 'information',\n",
       " ',',\n",
       " 'evolution',\n",
       " 'can',\n",
       " 'be',\n",
       " 'described',\n",
       " 'consistently',\n",
       " 'as',\n",
       " 'information',\n",
       " 'becoming',\n",
       " 'more',\n",
       " 'complex',\n",
       " '.',\n",
       " 'The',\n",
       " 'paper',\n",
       " 'presents',\n",
       " 'eight',\n",
       " 'tentative',\n",
       " 'laws',\n",
       " 'of',\n",
       " 'information',\n",
       " ',',\n",
       " 'valid',\n",
       " 'at',\n",
       " 'multiple',\n",
       " 'scales',\n",
       " ',',\n",
       " 'which',\n",
       " 'are',\n",
       " 'generalizations',\n",
       " 'of',\n",
       " 'Darwinian',\n",
       " ',',\n",
       " 'cybernetic',\n",
       " ',',\n",
       " 'thermodynamic',\n",
       " ',',\n",
       " 'psychological',\n",
       " ',',\n",
       " 'philosophical',\n",
       " ',',\n",
       " 'and',\n",
       " 'complexity',\n",
       " 'principles',\n",
       " '.',\n",
       " 'These',\n",
       " 'are',\n",
       " 'further',\n",
       " 'used',\n",
       " 'to',\n",
       " 'discuss',\n",
       " 'the',\n",
       " 'notions',\n",
       " 'of',\n",
       " 'life',\n",
       " ',',\n",
       " 'cognition',\n",
       " 'and',\n",
       " 'their',\n",
       " 'evolution',\n",
       " '.']"
      ]
     },
     "execution_count": 19,
     "metadata": {},
     "output_type": "execute_result"
    }
   ],
   "source": [
    "preproc_df.loc[4, \"token_abs\"]"
   ]
  },
  {
   "cell_type": "markdown",
   "metadata": {
    "heading_collapsed": true,
    "hidden": true
   },
   "source": [
    "## Dictionary building"
   ]
  },
  {
   "cell_type": "markdown",
   "metadata": {
    "heading_collapsed": true,
    "hidden": true
   },
   "source": [
    "### Incremental dictionary building with pandas"
   ]
  },
  {
   "cell_type": "code",
   "execution_count": 20,
   "metadata": {
    "hidden": true
   },
   "outputs": [],
   "source": [
    "def build_one_dictionary(jfile):\n",
    "    dct = Dictionary()\n",
    "    df = pd.read_json(jfile, orient='records', lines=True)\n",
    "    dct.add_documents(df.token_abs)\n",
    "    return dct"
   ]
  },
  {
   "cell_type": "code",
   "execution_count": 21,
   "metadata": {
    "hidden": true
   },
   "outputs": [],
   "source": [
    "def build_all_dictionaries(preproc_data_dir, jfile_glob_pattern):\n",
    "    dictionaries = []\n",
    "    for jfile in preproc_data_dir.glob(jfile_glob_pattern):\n",
    "        dictionaries.append(build_one_dictionary(jfile))\n",
    "    return dictionaries"
   ]
  },
  {
   "cell_type": "code",
   "execution_count": 22,
   "metadata": {
    "hidden": true
   },
   "outputs": [],
   "source": [
    "def build_global_dictionary(preproc_data_dir, jfile_glob_pattern):\n",
    "    part_dcts = build_all_dictionaries(preproc_data_dir, jfile_glob_pattern)\n",
    "    \n",
    "    global_dct = part_dcts[0]\n",
    "    for part_dct in part_dcts[1:]:\n",
    "        _ = global_dct.merge_with(part_dct)\n",
    "\n",
    "    return global_dct"
   ]
  },
  {
   "cell_type": "code",
   "execution_count": 23,
   "metadata": {
    "hidden": true
   },
   "outputs": [
    {
     "name": "stdout",
     "output_type": "stream",
     "text": [
      "CPU times: user 59.3 s, sys: 2.15 s, total: 1min 1s\n",
      "Wall time: 1min 2s\n"
     ]
    }
   ],
   "source": [
    "%time dictionary = build_global_dictionary(preproc_data_dir, json_glob_pattern)"
   ]
  },
  {
   "cell_type": "markdown",
   "metadata": {
    "heading_collapsed": true,
    "hidden": true
   },
   "source": [
    "### Parallelizing with dask.bag"
   ]
  },
  {
   "cell_type": "markdown",
   "metadata": {
    "hidden": true
   },
   "source": [
    "We can simply override the `build_all_dictionaries` method with one utilizing dask and immediately feel the effects of parallelization"
   ]
  },
  {
   "cell_type": "code",
   "execution_count": 24,
   "metadata": {
    "hidden": true
   },
   "outputs": [],
   "source": [
    "def build_all_dictionaries(preproc_data_dir, jfile_glob_pattern):\n",
    "    preproc_db = db.from_sequence(pathlib.Path(preproc_data_dir).glob(jfile_glob_pattern)) \\\n",
    "        .map(build_one_dictionary)\n",
    "    return preproc_db.compute()"
   ]
  },
  {
   "cell_type": "code",
   "execution_count": 25,
   "metadata": {
    "hidden": true
   },
   "outputs": [
    {
     "name": "stdout",
     "output_type": "stream",
     "text": [
      "CPU times: user 11.1 s, sys: 1.07 s, total: 12.1 s\n",
      "Wall time: 46.9 s\n"
     ]
    }
   ],
   "source": [
    "%time dictionary = build_global_dictionary(preproc_data_dir, json_glob_pattern)"
   ]
  },
  {
   "cell_type": "code",
   "execution_count": 26,
   "metadata": {
    "hidden": true
   },
   "outputs": [],
   "source": [
    "with open(feature_data_dir/\"dictionary.pkl\", \"wb\") as f:\n",
    "    dictionary.save(f)"
   ]
  },
  {
   "cell_type": "markdown",
   "metadata": {
    "heading_collapsed": true,
    "hidden": true
   },
   "source": [
    "## Bag of Words (BoW) Representation"
   ]
  },
  {
   "cell_type": "markdown",
   "metadata": {
    "heading_collapsed": true,
    "hidden": true
   },
   "source": [
    "### Incremental BoW Corpus building with pandas"
   ]
  },
  {
   "cell_type": "code",
   "execution_count": 27,
   "metadata": {
    "hidden": true
   },
   "outputs": [],
   "source": [
    "dictionary = Dictionary().load(str(feature_data_dir/\"dictionary.pkl\"))"
   ]
  },
  {
   "cell_type": "code",
   "execution_count": 28,
   "metadata": {
    "hidden": true
   },
   "outputs": [],
   "source": [
    "df = pd.read_json(preproc_data_dir/\"arXiv_metadata_000000000000.json\", orient=\"records\", lines=True)"
   ]
  },
  {
   "cell_type": "code",
   "execution_count": 29,
   "metadata": {
    "hidden": true
   },
   "outputs": [
    {
     "name": "stdout",
     "output_type": "stream",
     "text": [
      "CPU times: user 5.22 s, sys: 110 ms, total: 5.33 s\n",
      "Wall time: 5.28 s\n"
     ]
    },
    {
     "data": {
      "text/plain": [
       "(29739,)"
      ]
     },
     "execution_count": 29,
     "metadata": {},
     "output_type": "execute_result"
    }
   ],
   "source": [
    "%time mini_corpus = df[\"token_abs\"].apply(dictionary.doc2bow)\n",
    "\n",
    "# 29739 documents\n",
    "mini_corpus.shape"
   ]
  },
  {
   "cell_type": "markdown",
   "metadata": {
    "heading_collapsed": true,
    "hidden": true
   },
   "source": [
    "### Parallelizing with dask.dataframe"
   ]
  },
  {
   "cell_type": "code",
   "execution_count": 30,
   "metadata": {
    "hidden": true
   },
   "outputs": [
    {
     "data": {
      "text/html": [
       "<div><strong>Dask DataFrame Structure:</strong></div>\n",
       "<div>\n",
       "<style scoped>\n",
       "    .dataframe tbody tr th:only-of-type {\n",
       "        vertical-align: middle;\n",
       "    }\n",
       "\n",
       "    .dataframe tbody tr th {\n",
       "        vertical-align: top;\n",
       "    }\n",
       "\n",
       "    .dataframe thead th {\n",
       "        text-align: right;\n",
       "    }\n",
       "</style>\n",
       "<table border=\"1\" class=\"dataframe\">\n",
       "  <thead>\n",
       "    <tr style=\"text-align: right;\">\n",
       "      <th></th>\n",
       "      <th>Computer Science</th>\n",
       "      <th>Economics</th>\n",
       "      <th>Electrical Engineering and Systems Science</th>\n",
       "      <th>Mathematics</th>\n",
       "      <th>Physics</th>\n",
       "      <th>Quantitative Biology</th>\n",
       "      <th>Quantitative Finance</th>\n",
       "      <th>Statistics</th>\n",
       "      <th>main_cat_list</th>\n",
       "      <th>token_abs</th>\n",
       "    </tr>\n",
       "    <tr>\n",
       "      <th>npartitions=9</th>\n",
       "      <th></th>\n",
       "      <th></th>\n",
       "      <th></th>\n",
       "      <th></th>\n",
       "      <th></th>\n",
       "      <th></th>\n",
       "      <th></th>\n",
       "      <th></th>\n",
       "      <th></th>\n",
       "      <th></th>\n",
       "    </tr>\n",
       "  </thead>\n",
       "  <tbody>\n",
       "    <tr>\n",
       "      <th></th>\n",
       "      <td>int64</td>\n",
       "      <td>int64</td>\n",
       "      <td>int64</td>\n",
       "      <td>int64</td>\n",
       "      <td>int64</td>\n",
       "      <td>int64</td>\n",
       "      <td>int64</td>\n",
       "      <td>int64</td>\n",
       "      <td>object</td>\n",
       "      <td>object</td>\n",
       "    </tr>\n",
       "    <tr>\n",
       "      <th></th>\n",
       "      <td>...</td>\n",
       "      <td>...</td>\n",
       "      <td>...</td>\n",
       "      <td>...</td>\n",
       "      <td>...</td>\n",
       "      <td>...</td>\n",
       "      <td>...</td>\n",
       "      <td>...</td>\n",
       "      <td>...</td>\n",
       "      <td>...</td>\n",
       "    </tr>\n",
       "    <tr>\n",
       "      <th>...</th>\n",
       "      <td>...</td>\n",
       "      <td>...</td>\n",
       "      <td>...</td>\n",
       "      <td>...</td>\n",
       "      <td>...</td>\n",
       "      <td>...</td>\n",
       "      <td>...</td>\n",
       "      <td>...</td>\n",
       "      <td>...</td>\n",
       "      <td>...</td>\n",
       "    </tr>\n",
       "    <tr>\n",
       "      <th></th>\n",
       "      <td>...</td>\n",
       "      <td>...</td>\n",
       "      <td>...</td>\n",
       "      <td>...</td>\n",
       "      <td>...</td>\n",
       "      <td>...</td>\n",
       "      <td>...</td>\n",
       "      <td>...</td>\n",
       "      <td>...</td>\n",
       "      <td>...</td>\n",
       "    </tr>\n",
       "    <tr>\n",
       "      <th></th>\n",
       "      <td>...</td>\n",
       "      <td>...</td>\n",
       "      <td>...</td>\n",
       "      <td>...</td>\n",
       "      <td>...</td>\n",
       "      <td>...</td>\n",
       "      <td>...</td>\n",
       "      <td>...</td>\n",
       "      <td>...</td>\n",
       "      <td>...</td>\n",
       "    </tr>\n",
       "  </tbody>\n",
       "</table>\n",
       "</div>\n",
       "<div>Dask Name: from-delayed, 18 tasks</div>"
      ],
      "text/plain": [
       "Dask DataFrame Structure:\n",
       "              Computer Science Economics Electrical Engineering and Systems Science Mathematics Physics Quantitative Biology Quantitative Finance Statistics main_cat_list token_abs\n",
       "npartitions=9                                                                                                                                                                       \n",
       "                         int64     int64                                      int64       int64   int64                int64                int64      int64        object    object\n",
       "                           ...       ...                                        ...         ...     ...                  ...                  ...        ...           ...       ...\n",
       "...                        ...       ...                                        ...         ...     ...                  ...                  ...        ...           ...       ...\n",
       "                           ...       ...                                        ...         ...     ...                  ...                  ...        ...           ...       ...\n",
       "                           ...       ...                                        ...         ...     ...                  ...                  ...        ...           ...       ...\n",
       "Dask Name: from-delayed, 18 tasks"
      ]
     },
     "execution_count": 30,
     "metadata": {},
     "output_type": "execute_result"
    }
   ],
   "source": [
    "ddf = dd.read_json(preproc_data_dir/json_glob_pattern)\n",
    "ddf  # contains one partition per file"
   ]
  },
  {
   "cell_type": "code",
   "execution_count": 31,
   "metadata": {
    "hidden": true
   },
   "outputs": [],
   "source": [
    "meta_corpus = ddf.loc[:2, \"token_abs\"].compute().apply(dictionary.doc2bow)"
   ]
  },
  {
   "cell_type": "code",
   "execution_count": 32,
   "metadata": {
    "hidden": true,
    "scrolled": true
   },
   "outputs": [
    {
     "data": {
      "text/plain": [
       "Dask Series Structure:\n",
       "npartitions=9\n",
       "    object\n",
       "       ...\n",
       "     ...  \n",
       "       ...\n",
       "       ...\n",
       "Name: token_abs, dtype: object\n",
       "Dask Name: apply, 36 tasks"
      ]
     },
     "execution_count": 32,
     "metadata": {},
     "output_type": "execute_result"
    }
   ],
   "source": [
    "# Lazily evaluated -- not brought into memory yet\n",
    "corpus = ddf.loc[:, 'token_abs'].apply(dictionary.doc2bow, meta=meta_corpus)\n",
    "corpus"
   ]
  },
  {
   "cell_type": "code",
   "execution_count": 33,
   "metadata": {
    "hidden": true
   },
   "outputs": [
    {
     "name": "stdout",
     "output_type": "stream",
     "text": [
      "CPU times: user 42.5 s, sys: 14.5 s, total: 57 s\n",
      "Wall time: 2min 2s\n"
     ]
    }
   ],
   "source": [
    "# Note: corpus refers to bow vectors for ALL documents in the corpus. \n",
    "# But the vectors are sparse.\n",
    "# reset index to get unique indices\n",
    "%time corpus = corpus.compute().reset_index(drop=True)"
   ]
  },
  {
   "cell_type": "code",
   "execution_count": 34,
   "metadata": {
    "hidden": true
   },
   "outputs": [
    {
     "data": {
      "text/plain": [
       "(234554,)"
      ]
     },
     "execution_count": 34,
     "metadata": {},
     "output_type": "execute_result"
    }
   ],
   "source": [
    "# 234,554 documents\n",
    "corpus.shape"
   ]
  },
  {
   "cell_type": "code",
   "execution_count": 35,
   "metadata": {
    "hidden": true
   },
   "outputs": [
    {
     "data": {
      "text/plain": [
       "[(0, 6),\n",
       " (1, 1),\n",
       " (2, 1),\n",
       " (5, 2),\n",
       " (7, 2),\n",
       " (20, 1),\n",
       " (27, 1),\n",
       " (33, 2),\n",
       " (34, 1),\n",
       " (35, 1),\n",
       " (38, 1),\n",
       " (74, 1),\n",
       " (80, 1),\n",
       " (90, 3),\n",
       " (100, 4),\n",
       " (104, 1),\n",
       " (111, 1),\n",
       " (112, 1),\n",
       " (122, 1),\n",
       " (221, 1),\n",
       " (237, 1),\n",
       " (244, 1),\n",
       " (270, 1),\n",
       " (350, 1),\n",
       " (416, 1),\n",
       " (478, 1),\n",
       " (652, 1),\n",
       " (663, 1),\n",
       " (902, 1),\n",
       " (937, 1),\n",
       " (1130, 1),\n",
       " (1538, 1),\n",
       " (2183, 1),\n",
       " (2316, 1),\n",
       " (2490, 1),\n",
       " (3312, 1),\n",
       " (3347, 1),\n",
       " (4010, 1),\n",
       " (4200, 1),\n",
       " (5357, 1),\n",
       " (9548, 1),\n",
       " (17375, 1),\n",
       " (29318, 2),\n",
       " (107109, 1)]"
      ]
     },
     "execution_count": 35,
     "metadata": {},
     "output_type": "execute_result"
    }
   ],
   "source": [
    "# One document BoW representation\n",
    "corpus.loc[0]"
   ]
  },
  {
   "cell_type": "code",
   "execution_count": 36,
   "metadata": {
    "hidden": true
   },
   "outputs": [],
   "source": [
    "corpus.to_pickle(feature_data_dir/\"corpus.pkl\")"
   ]
  },
  {
   "cell_type": "markdown",
   "metadata": {
    "heading_collapsed": true,
    "hidden": true
   },
   "source": [
    "## TF-IDF Document Vectorization"
   ]
  },
  {
   "cell_type": "code",
   "execution_count": 37,
   "metadata": {
    "hidden": true
   },
   "outputs": [],
   "source": [
    "tfidf_model = TfidfModel(corpus.tolist())\n",
    "X = tfidf_model[corpus]"
   ]
  },
  {
   "cell_type": "code",
   "execution_count": 38,
   "metadata": {
    "hidden": true
   },
   "outputs": [
    {
     "data": {
      "text/plain": [
       "(234554, 201810)"
      ]
     },
     "execution_count": 38,
     "metadata": {},
     "output_type": "execute_result"
    }
   ],
   "source": [
    "X = corpus2csc(X).T\n",
    "X.shape"
   ]
  },
  {
   "cell_type": "code",
   "execution_count": 39,
   "metadata": {
    "hidden": true
   },
   "outputs": [],
   "source": [
    "sparse.save_npz(feature_data_dir/\"X.npz\", X)"
   ]
  },
  {
   "cell_type": "markdown",
   "metadata": {
    "heading_collapsed": true
   },
   "source": [
    "# Multi-model Training"
   ]
  },
  {
   "cell_type": "markdown",
   "metadata": {
    "heading_collapsed": true,
    "hidden": true
   },
   "source": [
    "## Train-test split"
   ]
  },
  {
   "cell_type": "code",
   "execution_count": 41,
   "metadata": {
    "hidden": true
   },
   "outputs": [],
   "source": [
    "X = sparse.load_npz(feature_data_dir/\"X.npz\")"
   ]
  },
  {
   "cell_type": "code",
   "execution_count": 42,
   "metadata": {
    "hidden": true
   },
   "outputs": [],
   "source": [
    "y = ddf.drop(['main_cat_list', 'token_abs'], axis=1).compute()"
   ]
  },
  {
   "cell_type": "code",
   "execution_count": 43,
   "metadata": {
    "hidden": true
   },
   "outputs": [
    {
     "data": {
      "text/plain": [
       "((187643, 201810), (46911, 201810), (187643, 8), (46911, 8))"
      ]
     },
     "execution_count": 43,
     "metadata": {},
     "output_type": "execute_result"
    }
   ],
   "source": [
    "X_trn, X_val, y_trn, y_val = train_test_split(X, y, test_size=0.2, random_state=42)\n",
    "X_trn.shape, X_val.shape, y_trn.shape, y_val.shape"
   ]
  },
  {
   "cell_type": "markdown",
   "metadata": {
    "heading_collapsed": true,
    "hidden": true
   },
   "source": [
    "## Building models one-by-one"
   ]
  },
  {
   "cell_type": "code",
   "execution_count": 44,
   "metadata": {
    "hidden": true
   },
   "outputs": [],
   "source": [
    "class NbLogisticClassifier(BaseEstimator, ClassifierMixin):\n",
    "    \"\"\"\n",
    "    Baseline model using Naive Bayes SVM as shown in https://nlp.stanford.edu/pubs/sidaw12_simple_sentiment.pdf\n",
    "    code actually taken from kaggle kernel discussion and taught in fast.ai ML MOOC\n",
    "    \"\"\"\n",
    "\n",
    "    def __init__(self, penalty=\"l2\", C=1.0, dual=True, n_jobs=1, random_state=42):\n",
    "        self.penalty = penalty\n",
    "        self.C = C\n",
    "        self.dual = dual\n",
    "        self.n_jobs = n_jobs\n",
    "        self.random_state = random_state\n",
    "        self.clf = LogisticRegression(penalty=self.penalty, C=self.C, dual=self.dual, \n",
    "                                      n_jobs=self.n_jobs, random_state=random_state)\n",
    "\n",
    "    def predict(self, x):\n",
    "        # Verify that model has been fit\n",
    "        check_is_fitted(self, [\"_ratio\", \"clf\"])  # if model has _ratio and clf, then it is fit\n",
    "        return self.clf.predict(x.multiply(self._ratio))\n",
    "\n",
    "    def predict_proba(self, x):\n",
    "        # Verify that model has been fit\n",
    "        check_is_fitted(self, [\"_ratio\", \"clf\"])\n",
    "        return self.clf.predict_proba(x.multiply(self._ratio))\n",
    "\n",
    "    def fit(self, x, y):\n",
    "        if isinstance(y, pd.Series):\n",
    "            y = y.values\n",
    "            \n",
    "        # Check that X and y have correct shape\n",
    "        x, y = check_X_y(x, y, accept_sparse=True)\n",
    "\n",
    "        def class_prob(x, y_i, y):\n",
    "            \"\"\"\n",
    "            gives probability of each term given class y_i\n",
    "            \"\"\"\n",
    "            p = x[y == y_i].sum(0)  # sums all the tfidf values for each word given class y_i\n",
    "            return (p + 1) / ((y == y_i).sum() + 1)  # mean tf-idf of each word given class y_i\n",
    "\n",
    "        self._ratio = sparse.csr_matrix(np.log(class_prob(x, 1, y) / class_prob(x, 0, y)))  # naive bayes\n",
    "        x_nb = x.multiply(self._ratio)\n",
    "        self.clf.fit(x_nb, y)  # dual = True for faster fitting\n",
    "        return self"
   ]
  },
  {
   "cell_type": "code",
   "execution_count": 45,
   "metadata": {
    "hidden": true
   },
   "outputs": [],
   "source": [
    "def fit_predict(X_trn, y_trn, X_val):\n",
    "    model = NbLogisticClassifier()\n",
    "    model.fit(X_trn, y_trn)\n",
    "    preds = model.predict_proba(X_val)[:, 1]\n",
    "    return preds"
   ]
  },
  {
   "cell_type": "code",
   "execution_count": 46,
   "metadata": {
    "hidden": true
   },
   "outputs": [],
   "source": [
    "def serial_models_fit_predict(X_trn, y_trn, X_val, y_val):\n",
    "    preds = np.zeros(y_val.shape)\n",
    "    for i, c in enumerate(y_val.columns):\n",
    "        preds[:, i] =  fit_predict(X_trn, y_trn[c], X_val)\n",
    "    return preds"
   ]
  },
  {
   "cell_type": "code",
   "execution_count": 47,
   "metadata": {
    "hidden": true
   },
   "outputs": [
    {
     "name": "stderr",
     "output_type": "stream",
     "text": [
      "/usr/local/lib/python3.6/dist-packages/sklearn/linear_model/logistic.py:433: FutureWarning: Default solver will be changed to 'lbfgs' in 0.22. Specify a solver to silence this warning.\n",
      "  FutureWarning)\n"
     ]
    },
    {
     "name": "stdout",
     "output_type": "stream",
     "text": [
      "CPU times: user 36.6 s, sys: 3.49 s, total: 40.1 s\n",
      "Wall time: 35.6 s\n"
     ]
    },
    {
     "data": {
      "text/plain": [
       "array([[4.25898403e-03, 3.94284480e-05, 5.47801639e-05, ...,\n",
       "        3.37496702e-03, 5.90458680e-04, 1.84933858e-03],\n",
       "       [2.13809277e-01, 6.52745340e-05, 1.39329927e-04, ...,\n",
       "        3.86724652e-02, 1.27704041e-03, 5.91362939e-03],\n",
       "       [3.28198480e-02, 6.34132175e-05, 8.81341274e-05, ...,\n",
       "        3.10373386e-03, 6.38184751e-04, 5.11491584e-03],\n",
       "       ...,\n",
       "       [8.53987599e-01, 1.03454503e-04, 2.37355197e-04, ...,\n",
       "        6.43865568e-03, 1.49042937e-03, 2.33947063e-01],\n",
       "       [6.97279074e-04, 4.08676093e-05, 6.69939175e-05, ...,\n",
       "        5.53670491e-04, 4.12740491e-04, 9.10506651e-04],\n",
       "       [3.43414276e-03, 3.83361065e-05, 4.67132080e-05, ...,\n",
       "        4.24993477e-03, 4.97637494e-04, 1.07755684e-03]])"
      ]
     },
     "execution_count": 47,
     "metadata": {},
     "output_type": "execute_result"
    }
   ],
   "source": [
    "%time serial_preds = serial_models_fit_predict(X_trn, y_trn, X_val, y_val)\n",
    "serial_preds"
   ]
  },
  {
   "cell_type": "markdown",
   "metadata": {
    "heading_collapsed": true,
    "hidden": true
   },
   "source": [
    "## Parallelizing over labels with dask.distributed using futures"
   ]
  },
  {
   "cell_type": "code",
   "execution_count": 57,
   "metadata": {
    "hidden": true
   },
   "outputs": [],
   "source": [
    "def parallel_models_fit_predict(X_trn, y_trn, X_val):\n",
    "    X_trn_fut = client.scatter(X_trn)\n",
    "    X_val_fut = client.scatter(X_val)\n",
    "    \n",
    "    preds = []\n",
    "    for c in y_trn.columns:\n",
    "        preds.append(client.submit(fit_predict, X_trn_fut, y_trn[c], X_val_fut))\n",
    "    return np.transpose(client.gather(preds))"
   ]
  },
  {
   "cell_type": "code",
   "execution_count": 58,
   "metadata": {
    "hidden": true
   },
   "outputs": [
    {
     "name": "stdout",
     "output_type": "stream",
     "text": [
      "CPU times: user 5.27 s, sys: 1.24 s, total: 6.51 s\n",
      "Wall time: 16.8 s\n"
     ]
    },
    {
     "data": {
      "text/plain": [
       "array([[4.25898335e-03, 3.94284778e-05, 5.47801330e-05, ...,\n",
       "        3.37496717e-03, 5.90458842e-04, 1.84933875e-03],\n",
       "       [2.13809344e-01, 6.52745565e-05, 1.39329811e-04, ...,\n",
       "        3.86724463e-02, 1.27704061e-03, 5.91362930e-03],\n",
       "       [3.28198509e-02, 6.34132255e-05, 8.81340877e-05, ...,\n",
       "        3.10373346e-03, 6.38184917e-04, 5.11491645e-03],\n",
       "       ...,\n",
       "       [8.53987736e-01, 1.03454511e-04, 2.37355075e-04, ...,\n",
       "        6.43865368e-03, 1.49042933e-03, 2.33947074e-01],\n",
       "       [6.97279051e-04, 4.08676192e-05, 6.69938888e-05, ...,\n",
       "        5.53670431e-04, 4.12740554e-04, 9.10506715e-04],\n",
       "       [3.43414247e-03, 3.83361218e-05, 4.67131843e-05, ...,\n",
       "        4.24993408e-03, 4.97637539e-04, 1.07755692e-03]])"
      ]
     },
     "execution_count": 58,
     "metadata": {},
     "output_type": "execute_result"
    }
   ],
   "source": [
    "%time parallel_preds = parallel_models_fit_predict(X_trn, y_trn, X_val)\n",
    "parallel_preds"
   ]
  },
  {
   "cell_type": "markdown",
   "metadata": {
    "heading_collapsed": true,
    "hidden": true
   },
   "source": [
    "## Validation"
   ]
  },
  {
   "cell_type": "code",
   "execution_count": 50,
   "metadata": {
    "hidden": true
   },
   "outputs": [],
   "source": [
    "def compute_precision_recall_scores(y_true, y_pred, label_cols=None):\n",
    "    precision = dict()\n",
    "    recall = dict()\n",
    "    average_precision = dict()\n",
    "\n",
    "    for i, label in enumerate(label_cols):\n",
    "        precision[label], recall[label], _ = precision_recall_curve(y_true[:, i], y_pred[:, i])\n",
    "        average_precision[label] = average_precision_score(y_true[:, i], y_pred[:, i])\n",
    "\n",
    "    # A \"micro-average\": quantifying score on all classes jointly\n",
    "    precision[\"micro\"], recall[\"micro\"], _ = precision_recall_curve(y_true.ravel(), y_pred.ravel())\n",
    "    average_precision[\"micro\"] = average_precision_score(y_true, y_pred, average=\"micro\")\n",
    "    average_precision[\"macro\"] = average_precision_score(y_true, y_pred, average=\"macro\")\n",
    "    return precision, recall, average_precision\n",
    "\n",
    "\n",
    "def precision_recall_plot(precision, recall, average_precision, title, label_cols=None, report_path=None, save_fig=True):\n",
    "    fig, ax = plt.subplots(figsize=(12, 6))\n",
    "\n",
    "    # setup plot details\n",
    "    colors = cycle([\"navy\", \"turquoise\", \"darkorange\", \"cornflowerblue\", \"teal\"])\n",
    "    lines = []\n",
    "    labels = []\n",
    "\n",
    "    l, = ax.plot(recall[\"micro\"], precision[\"micro\"], color=\"gold\", lw=2)\n",
    "    lines.append(l)\n",
    "    labels.append(f'micro-average precision recall (area = {round(average_precision[\"micro\"], 2)})')\n",
    "\n",
    "    for label, color in zip(label_cols, colors):\n",
    "        l, = ax.plot(recall[label], precision[label], color=color, lw=2)\n",
    "        lines.append(l)\n",
    "        labels.append(\"Precision-recall for class {0} (area = {1:0.2f})\" \"\".format(label, average_precision[label]))\n",
    "\n",
    "    fig.subplots_adjust(bottom=0.1)\n",
    "    ax.set_xlim([0.0, 1.0])\n",
    "    ax.set_ylim([0.0, 1.05])\n",
    "    ax.set_xlabel(\"Recall\")\n",
    "    ax.set_ylabel(\"Precision\")\n",
    "    ax.set_title(title)\n",
    "    ax.legend(lines, labels, loc=\"lower left\", bbox_to_anchor=(0, 0))  # moving legend box to bottom left\n",
    "\n",
    "    if save_fig:\n",
    "        plt.savefig(os.path.join(report_path, \"figures\", \"precision_recall_plots.svg\"), format=\"svg\")\n",
    "    else:\n",
    "        plt.show()\n",
    "    plt.close()"
   ]
  },
  {
   "cell_type": "code",
   "execution_count": 59,
   "metadata": {
    "hidden": true
   },
   "outputs": [
    {
     "name": "stderr",
     "output_type": "stream",
     "text": [
      "/usr/local/lib/python3.6/dist-packages/sklearn/metrics/ranking.py:526: RuntimeWarning: invalid value encountered in true_divide\n",
      "  recall = tps / tps[-1]\n",
      "/usr/local/lib/python3.6/dist-packages/sklearn/metrics/ranking.py:526: RuntimeWarning: invalid value encountered in true_divide\n",
      "  recall = tps / tps[-1]\n",
      "/usr/local/lib/python3.6/dist-packages/sklearn/metrics/ranking.py:526: RuntimeWarning: invalid value encountered in true_divide\n",
      "  recall = tps / tps[-1]\n"
     ]
    }
   ],
   "source": [
    "prec_s, recall_s, avg_prec_s = compute_precision_recall_scores(np.array(y_val), serial_preds, list(y_val.columns))\n",
    "prec_p, recall_p, avg_prec_p = compute_precision_recall_scores(np.array(y_val), parallel_preds, list(y_val.columns))"
   ]
  },
  {
   "cell_type": "code",
   "execution_count": 60,
   "metadata": {
    "hidden": true
   },
   "outputs": [
    {
     "data": {
      "image/png": "[encoded data removed]",
      "text/plain": [
       "<Figure size 864x432 with 1 Axes>"
      ]
     },
     "metadata": {},
     "output_type": "display_data"
    }
   ],
   "source": [
    "precision_recall_plot(prec_s, recall_s, avg_prec_s, \"Precision-Recall curve for multi-label (Serial Modeling)\", label_cols=list(y_val.columns), save_fig=False)"
   ]
  },
  {
   "cell_type": "code",
   "execution_count": 61,
   "metadata": {
    "hidden": true,
    "scrolled": false
   },
   "outputs": [
    {
     "data": {
      "image/png": "[encoded data removed]",
      "text/plain": [
       "<Figure size 864x432 with 1 Axes>"
      ]
     },
     "metadata": {},
     "output_type": "display_data"
    }
   ],
   "source": [
    "precision_recall_plot(prec_p, recall_p, avg_prec_p, \"Precision-Recall curve for multi-label (Parallel Modeling)\", label_cols=list(y_val.columns), save_fig=False)"
   ]
  },
  {
   "cell_type": "markdown",
   "metadata": {
    "heading_collapsed": true
   },
   "source": [
    "# Hyper-parameter optimization with dask_ml GridSearchCV"
   ]
  },
  {
   "cell_type": "code",
   "execution_count": 62,
   "metadata": {
    "hidden": true
   },
   "outputs": [],
   "source": [
    "# We are using scheduler=processes due to single machine memory limitations\n",
    "cv =  GridSearchCV(NbLogisticClassifier(), param_grid={\"penalty\": [\"l1\", \"l2\"], \"C\": [1e-8, 1e-6, 1e-4, 1e-2]}, scoring=\"precision\", refit=True, scheduler=\"processes\")"
   ]
  },
  {
   "cell_type": "code",
   "execution_count": 63,
   "metadata": {
    "hidden": true
   },
   "outputs": [
    {
     "name": "stderr",
     "output_type": "stream",
     "text": [
      "/usr/local/lib/python3.6/dist-packages/sklearn/linear_model/logistic.py:433: FutureWarning: Default solver will be changed to 'lbfgs' in 0.22. Specify a solver to silence this warning.\n",
      "  FutureWarning)\n",
      "/usr/local/lib/python3.6/dist-packages/sklearn/linear_model/logistic.py:433: FutureWarning: Default solver will be changed to 'lbfgs' in 0.22. Specify a solver to silence this warning.\n",
      "  FutureWarning)\n",
      "/usr/local/lib/python3.6/dist-packages/sklearn/linear_model/logistic.py:433: FutureWarning: Default solver will be changed to 'lbfgs' in 0.22. Specify a solver to silence this warning.\n",
      "  FutureWarning)\n",
      "/usr/local/lib/python3.6/dist-packages/sklearn/linear_model/logistic.py:433: FutureWarning: Default solver will be changed to 'lbfgs' in 0.22. Specify a solver to silence this warning.\n",
      "  FutureWarning)\n",
      "/usr/local/lib/python3.6/dist-packages/sklearn/linear_model/logistic.py:433: FutureWarning: Default solver will be changed to 'lbfgs' in 0.22. Specify a solver to silence this warning.\n",
      "  FutureWarning)\n",
      "/usr/local/lib/python3.6/dist-packages/sklearn/linear_model/logistic.py:433: FutureWarning: Default solver will be changed to 'lbfgs' in 0.22. Specify a solver to silence this warning.\n",
      "  FutureWarning)\n",
      "/usr/local/lib/python3.6/dist-packages/sklearn/linear_model/logistic.py:433: FutureWarning: Default solver will be changed to 'lbfgs' in 0.22. Specify a solver to silence this warning.\n",
      "  FutureWarning)\n",
      "/usr/local/lib/python3.6/dist-packages/sklearn/linear_model/logistic.py:433: FutureWarning: Default solver will be changed to 'lbfgs' in 0.22. Specify a solver to silence this warning.\n",
      "  FutureWarning)\n",
      "/usr/local/lib/python3.6/dist-packages/sklearn/linear_model/logistic.py:433: FutureWarning: Default solver will be changed to 'lbfgs' in 0.22. Specify a solver to silence this warning.\n",
      "  FutureWarning)\n",
      "/usr/local/lib/python3.6/dist-packages/sklearn/linear_model/logistic.py:433: FutureWarning: Default solver will be changed to 'lbfgs' in 0.22. Specify a solver to silence this warning.\n",
      "  FutureWarning)\n",
      "distributed.comm.tcp - WARNING - Closing dangling stream in <TCP local=tcp://127.0.0.1:59282 remote=tcp://127.0.0.1:43313>\n"
     ]
    },
    {
     "data": {
      "text/plain": [
       "GridSearchCV(cache_cv=True, cv=None, error_score='raise',\n",
       "       estimator=NbLogisticClassifier(C=1.0, dual=True, n_jobs=1, penalty='l2',\n",
       "           random_state=42),\n",
       "       iid=True, n_jobs=-1,\n",
       "       param_grid={'penalty': ['l1', 'l2'], 'C': [1e-08, 1e-06, 0.0001, 0.01]},\n",
       "       refit=True, return_train_score='warn', scheduler='processes',\n",
       "       scoring='precision')"
      ]
     },
     "execution_count": 63,
     "metadata": {},
     "output_type": "execute_result"
    }
   ],
   "source": [
    "cv.fit(X, y.loc[:,\"Statistics\"])"
   ]
  },
  {
   "cell_type": "code",
   "execution_count": 64,
   "metadata": {
    "hidden": true
   },
   "outputs": [
    {
     "data": {
      "text/plain": [
       "{'C': 1e-08, 'penalty': 'l1'}"
      ]
     },
     "execution_count": 64,
     "metadata": {},
     "output_type": "execute_result"
    }
   ],
   "source": [
    "cv.best_params_"
   ]
  },
  {
   "cell_type": "code",
   "execution_count": 65,
   "metadata": {
    "hidden": true
   },
   "outputs": [
    {
     "name": "stdout",
     "output_type": "stream",
     "text": [
      "Optimized precision: 0.8374991804145706\n"
     ]
    }
   ],
   "source": [
    "print(f\"Optimized precision: {cv.best_score_}\")"
   ]
  }
 ],
 "metadata": {
  "kernelspec": {
   "display_name": "Python 3",
   "language": "python",
   "name": "python3"
  },
  "language_info": {
   "codemirror_mode": {
    "name": "ipython",
    "version": 3
   },
   "file_extension": ".py",
   "mimetype": "text/x-python",
   "name": "python",
   "nbconvert_exporter": "python",
   "pygments_lexer": "ipython3",
   "version": "3.6.5"
  }
 },
 "nbformat": 4,
 "nbformat_minor": 2
}
